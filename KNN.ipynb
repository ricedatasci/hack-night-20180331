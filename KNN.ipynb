{
 "cells": [
  {
   "cell_type": "markdown",
   "metadata": {},
   "source": [
    "# Load The Data"
   ]
  },
  {
   "cell_type": "code",
   "execution_count": 1,
   "metadata": {
    "collapsed": true
   },
   "outputs": [],
   "source": [
    "import random\n",
    "import numpy as np\n",
    "import matplotlib.pyplot as plt\n",
    "\n",
    "# This is a bit of magic to make matplotlib figures appear inline in the notebook\n",
    "# rather than in a new window.\n",
    "\n",
    "%matplotlib inline\n",
    "plt.rcParams['figure.figsize'] = (10.0, 8.0) # set default size of plots\n",
    "plt.rcParams['image.interpolation'] = 'nearest'\n",
    "plt.rcParams['image.cmap'] = 'gray'\n",
    "\n",
    "# Some more magic so that the notebook will reload external python modules;\n",
    "# see http://stackoverflow.com/questions/1907993/autoreload-of-modules-in-ipython\n",
    "\n",
    "%load_ext autoreload\n",
    "%autoreload 2"
   ]
  },
  {
   "cell_type": "code",
   "execution_count": 11,
   "metadata": {},
   "outputs": [],
   "source": [
    "from sklearn import preprocessing, metrics\n",
    "import utils\n",
    "import scipy.io\n",
    "import numpy as np\n",
    "import tqdm\n",
    "import itertools\n",
    "\n",
    "# load the SPAM email training dataset\n",
    "\n",
    "X,y = utils.load_mat('data/spamTrain.mat')\n",
    "yy = np.ones(y.shape)\n",
    "yy[y==0] = -1\n",
    "\n",
    "# load the SPAM email test dataset\n",
    "test_data = scipy.io.loadmat('data/spamTest.mat')\n",
    "X_test = test_data['Xtest']\n",
    "y_test = test_data['ytest'].flatten()\n",
    "\n",
    "#getting the validation data \n",
    "val_idx = np.random.choice(range(len(X_test)), int(len(X_test) / 5), replace=False)\n",
    "X_val = X_test[val_idx]\n",
    "y_val = yy[val_idx]\n",
    "\n",
    "\n",
    "#getting the training data \n",
    "train_idx = []\n",
    "for i in range(len(X_test)):\n",
    "    if i not in val_idx:\n",
    "        train_idx.append(i)\n",
    "X_train = X_test[train_idx]\n",
    "y_train = yy[train_idx]"
   ]
  },
  {
   "cell_type": "markdown",
   "metadata": {},
   "source": [
    "# KNN Implementation"
   ]
  },
  {
   "cell_type": "code",
   "execution_count": 62,
   "metadata": {},
   "outputs": [],
   "source": [
    "import statistics\n",
    "\n",
    "class KNN(object):\n",
    "    def __init__(self, k):\n",
    "        self.X_train = None \n",
    "        self.y_train = None \n",
    "        self.k = k\n",
    "    \n",
    "    def train(self, X_train, y_train):\n",
    "        self.X_train = X_train\n",
    "        self.y_train = y_train\n",
    "        \n",
    "    def predict(self, X_test):\n",
    "        predictions = np.zeros((X_test.shape[0], 1))\n",
    "        ##################################################################################\n",
    "        #  YOUR CODE HERE. The goal here is to iterate accross inputs, and predict each \n",
    "        #  input. For each input, we want to calculate the k closest training inputs \n",
    "        #  and find the most common label among them. Assign these predictions to the \n",
    "        #  variable 'predictions'.\n",
    "        ##################################################################################\n",
    "        for i in range(len(X_test)):\n",
    "            dists = np.linalg.norm(X_test[i] - self.X_train, axis = 1)\n",
    "            closest_k = y_train[np.argsort(dists)[:self.k]]\n",
    "            predictions[i] = statistics.mode(closest_k)\n",
    "        ##################################################################################\n",
    "        #  END OF YOUR CODE\n",
    "        ##################################################################################\n",
    "        return predictions "
   ]
  },
  {
   "cell_type": "markdown",
   "metadata": {},
   "source": [
    "# Training & Searching For The Best K"
   ]
  },
  {
   "cell_type": "code",
   "execution_count": 63,
   "metadata": {},
   "outputs": [
    {
     "name": "stderr",
     "output_type": "stream",
     "text": [
      "6pair [00:11,  1.98s/pair]"
     ]
    },
    {
     "name": "stdout",
     "output_type": "stream",
     "text": [
      "Best K: 7.000000e+00, Best Val: 6.487500e-01\n"
     ]
    },
    {
     "name": "stderr",
     "output_type": "stream",
     "text": [
      "\n"
     ]
    }
   ],
   "source": [
    "best_K = 0\n",
    "best_val = 0\n",
    "best_KNN = None\n",
    "\n",
    "Ks = np.arange(1, 12, 2)\n",
    "\n",
    "for K in tqdm.tqdm(itertools.product(Ks), unit=\"pair\"):\n",
    "    K = K[0]\n",
    "\n",
    "    # set up the KNN and learn the parameters\n",
    "    knn = KNN(k = K)\n",
    "    knn.train(X_train,y_train)\n",
    "    \n",
    "\n",
    "    # calculate accuracy and update\n",
    "    val_acc = np.mean(y_val == knn.predict(X_val))\n",
    "    if val_acc > best_val:\n",
    "        best_K = K\n",
    "        best_KNN = knn\n",
    "        best_val = val_acc\n",
    "    \n",
    "print('Best K: %e, Best Val: %e' % (best_K, best_val))"
   ]
  },
  {
   "cell_type": "markdown",
   "metadata": {},
   "source": [
    "# Model Evaluation"
   ]
  },
  {
   "cell_type": "code",
   "execution_count": 64,
   "metadata": {},
   "outputs": [
    {
     "name": "stdout",
     "output_type": "stream",
     "text": [
      "Train Accuracy: 0.6486875\n",
      "Test Accuracy: 0.673184\n"
     ]
    }
   ],
   "source": [
    "##################################################################################\n",
    "# YOUR CODE HERE for testing your best model's performance                       #\n",
    "# what is the accuracy of your best model on the test set? On the training set?  #\n",
    "##################################################################################\n",
    "\n",
    "print('Train Accuracy:', np.mean(y_train == best_KNN.predict(X_train)))\n",
    "\n",
    "yy_test = np.ones(y_test.shape)\n",
    "yy_test[y_test == 0] = -1\n",
    "\n",
    "print('Test Accuracy:', np.mean(yy_test == best_KNN.predict(X_test)))"
   ]
  }
 ],
 "metadata": {
  "kernelspec": {
   "display_name": "kernel",
   "language": "python",
   "name": "py36"
  },
  "language_info": {
   "codemirror_mode": {
    "name": "ipython",
    "version": 3
   },
   "file_extension": ".py",
   "mimetype": "text/x-python",
   "name": "python",
   "nbconvert_exporter": "python",
   "pygments_lexer": "ipython3",
   "version": "3.6.4"
  }
 },
 "nbformat": 4,
 "nbformat_minor": 2
}
