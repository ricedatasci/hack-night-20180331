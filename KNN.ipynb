{
 "cells": [
  {
   "cell_type": "code",
   "execution_count": null,
   "metadata": {},
   "outputs": [],
   "source": [
    "import random\n",
    "import numpy as np\n",
    "import matplotlib.pyplot as plt\n",
    "import pandas as pd\n",
    "\n",
    "# This is a bit of magic to make matplotlib figures appear inline in the notebook\n",
    "# rather than in a new window.\n",
    "\n",
    "%matplotlib inline\n",
    "plt.rcParams['figure.figsize'] = (10.0, 8.0) # set default size of plots\n",
    "plt.rcParams['image.interpolation'] = 'nearest'\n",
    "plt.rcParams['image.cmap'] = 'gray'\n",
    "\n",
    "# Some more magic so that the notebook will reload external python modules;\n",
    "# see http://stackoverflow.com/questions/1907993/autoreload-of-modules-in-ipython\n",
    "\n",
    "%load_ext autoreload\n",
    "%autoreload 2"
   ]
  },
  {
   "cell_type": "markdown",
   "metadata": {},
   "source": [
    "# Load The Data"
   ]
  },
  {
   "cell_type": "code",
   "execution_count": null,
   "metadata": {
    "collapsed": true
   },
   "outputs": [],
   "source": [
    "from sklearn import preprocessing, metrics\n",
    "import utils\n",
    "import scipy.io\n",
    "import numpy as np\n",
    "import tqdm\n",
    "import itertools\n",
    "from sklearn import datasets\n",
    "\n",
    "iris_df = pd.read_csv('https://raw.githubusercontent.com/rasbt/python-machine-learning-book/master/code/datasets/iris/iris.data', header=None)\n",
    "# select setosa and versicolor\n",
    "y = df.iloc[0:100, 4].values\n",
    "y = np.where(y == 'Iris-setosa', 0, 1)\n",
    "\n",
    "# extract sepal length and petal length\n",
    "X = df.iloc[0:100, [0, 2]].values"
   ]
  },
  {
   "cell_type": "markdown",
   "metadata": {},
   "source": [
    "# Visualize The Data"
   ]
  },
  {
   "cell_type": "code",
   "execution_count": null,
   "metadata": {},
   "outputs": [],
   "source": [
    "utils.plot_data(X)"
   ]
  },
  {
   "cell_type": "markdown",
   "metadata": {},
   "source": [
    "# Split The Data Into Training, Validation, and Testing"
   ]
  },
  {
   "cell_type": "code",
   "execution_count": null,
   "metadata": {
    "collapsed": true
   },
   "outputs": [],
   "source": [
    "from sklearn.model_selection import train_test_split\n",
    "\n",
    "X_train, X_test, y_train, y_test = train_test_split(X, y, test_size=0.33, random_state=42)\n",
    "X_train, X_val, y_train, y_val = train_test_split(X_train, y_train, test_size=0.33, random_state=42)"
   ]
  },
  {
   "cell_type": "markdown",
   "metadata": {},
   "source": [
    "# KNN - Supervised\n",
    "## Implementation"
   ]
  },
  {
   "cell_type": "code",
   "execution_count": null,
   "metadata": {},
   "outputs": [],
   "source": [
    "import statistics\n",
    "\n",
    "class KNN(object):\n",
    "    def __init__(self, k):\n",
    "        self.X_train = None \n",
    "        self.y_train = None \n",
    "        self.k = k\n",
    "    \n",
    "    def train(self, X_train, y_train):\n",
    "        self.X_train = X_train\n",
    "        self.y_train = y_train\n",
    "        \n",
    "    def predict(self, X_test):\n",
    "        predictions = np.zeros((X_test.shape[0]))\n",
    "        ##################################################################################\n",
    "        #  YOUR CODE HERE. The goal here is to iterate accross inputs, and predict each \n",
    "        #  input. For each input, we want to calculate the k closest training inputs \n",
    "        #  and find the most common label among them. Assign these predictions to the \n",
    "        #  variable 'predictions'.\n",
    "        ##################################################################################\n",
    "        for i in range(len(X_test)):\n",
    "            dists = #use np.linalg.norm to find the distances between X_test[i] and each training example accross the 1st axis\n",
    "            closest_k = #get the values of y_train at the indices of dists with the lowest values using np.argsort\n",
    "            predictions[i] = #use statistics.mode on closest_k to find the most common label among the nearest neighbors\n",
    "        ##################################################################################\n",
    "        #  END OF YOUR CODE\n",
    "        ##################################################################################\n",
    "        return predictions "
   ]
  },
  {
   "cell_type": "markdown",
   "metadata": {},
   "source": [
    "## Training & Searching For The Best K"
   ]
  },
  {
   "cell_type": "code",
   "execution_count": null,
   "metadata": {
    "scrolled": false
   },
   "outputs": [],
   "source": [
    "best_K = 0\n",
    "best_val = 0\n",
    "best_KNN = None\n",
    "\n",
    "Ks = np.arange(1, 8, 2)\n",
    "\n",
    "for K in tqdm.tqdm(itertools.product(Ks), unit=\"pair\"):\n",
    "    K = K[0]\n",
    "\n",
    "    # set up the KNN and learn the parameters\n",
    "    knn = KNN(k = K)\n",
    "    knn.train(X_train,y_train)\n",
    "    \n",
    "\n",
    "    # calculate accuracy and update\n",
    "    val_acc = np.mean(y_val == knn.predict(X_val))\n",
    "    \n",
    "    if val_acc >= best_val:\n",
    "        best_K = K\n",
    "        best_KNN = knn\n",
    "        best_val = val_acc\n",
    "    \n",
    "print('Best K: %e, Best Val: %e' % (best_K, best_val))"
   ]
  },
  {
   "cell_type": "markdown",
   "metadata": {},
   "source": [
    "## Model Evaluation"
   ]
  },
  {
   "cell_type": "code",
   "execution_count": null,
   "metadata": {},
   "outputs": [],
   "source": [
    "print('Train Accuracy:', np.mean(y_train == best_KNN.predict(X_train)))\n",
    "print('Test Accuracy:', np.mean(y_test == best_KNN.predict(X_test)))"
   ]
  },
  {
   "cell_type": "markdown",
   "metadata": {},
   "source": [
    "## Plot Decision Boundary"
   ]
  },
  {
   "cell_type": "code",
   "execution_count": null,
   "metadata": {},
   "outputs": [],
   "source": [
    "utils.plot_decision_boundary(X, y, best_KNN)"
   ]
  },
  {
   "cell_type": "markdown",
   "metadata": {
    "collapsed": true
   },
   "source": [
    "# KMeans - Unsupervised\n",
    "## Implementation"
   ]
  },
  {
   "cell_type": "code",
   "execution_count": null,
   "metadata": {},
   "outputs": [],
   "source": [
    "from sklearn.metrics import pairwise_distances_argmin\n",
    "\n",
    "class KMeans(object):\n",
    "    def __init__(self, k):\n",
    "        self.X_train = None \n",
    "        self.k = k\n",
    "        self.centers = None\n",
    "\n",
    "    def train(self, X):\n",
    "        # 1. Randomly choose clusters\n",
    "        rng = np.random.RandomState(2)\n",
    "        i = rng.permutation(X.shape[0])[:self.k]\n",
    "        centers = X[i]\n",
    "\n",
    "        while True:\n",
    "            # 2a. Assign labels based on closest center\n",
    "            labels = pairwise_distances_argmin(X, centers)\n",
    "\n",
    "            # 2b. Find new centers from means of points\n",
    "            new_centers = np.array([X[labels == i].mean(0)\n",
    "                                    for i in range(self.k)])\n",
    "\n",
    "            # 2c. Check for convergence\n",
    "            if #check if self.centers and the new centers are the same\n",
    "                break\n",
    "            self.centers = new_centers\n",
    "\n",
    "        return self.centers, labels\n",
    "    \n",
    "    def predict(self, X_test):\n",
    "        predictions = np.zeros((X_test.shape[0]))\n",
    "        for i in range(len(X_test)):\n",
    "            distance_from_centers = #use np.linalg.norm to find the distances between X_test[i] and the centers accross the 1st axis\n",
    "            predictions[i] = #use np.argsort to find which index corresponds to the lowest distance from a center\n",
    "        return predictions"
   ]
  },
  {
   "cell_type": "markdown",
   "metadata": {},
   "source": [
    "## Training And Plotting Clusters"
   ]
  },
  {
   "cell_type": "code",
   "execution_count": null,
   "metadata": {},
   "outputs": [],
   "source": [
    "kmeans = KMeans(2)\n",
    "centers, labels = kmeans.train(X)\n",
    "plt.scatter(X[:, 0], X[:, 1], c=labels,\n",
    "            s=50, cmap='viridis');\n",
    "plt.scatter(centers[:, 0], centers[:, 1], marker = \"+\")"
   ]
  },
  {
   "cell_type": "markdown",
   "metadata": {},
   "source": [
    "## Model Evaluation"
   ]
  },
  {
   "cell_type": "code",
   "execution_count": null,
   "metadata": {},
   "outputs": [],
   "source": [
    "from sklearn.metrics import accuracy_score\n",
    "accuracy_score(kmeans.predict(X), 1 - y)"
   ]
  },
  {
   "cell_type": "markdown",
   "metadata": {},
   "source": [
    "## Cool Example - Digit Recognition\n",
    "### Load The Data"
   ]
  },
  {
   "cell_type": "code",
   "execution_count": null,
   "metadata": {},
   "outputs": [],
   "source": [
    "from sklearn.datasets import load_digits\n",
    "digits = load_digits()"
   ]
  },
  {
   "cell_type": "markdown",
   "metadata": {},
   "source": [
    "### Train KMeans"
   ]
  },
  {
   "cell_type": "code",
   "execution_count": null,
   "metadata": {
    "collapsed": true
   },
   "outputs": [],
   "source": [
    "kmeans = KMeans(k=10)\n",
    "kmeans.train(digits.data)\n",
    "clusters = kmeans.predict(digits.data)"
   ]
  },
  {
   "cell_type": "markdown",
   "metadata": {},
   "source": [
    "### Visualize The Centers"
   ]
  },
  {
   "cell_type": "code",
   "execution_count": null,
   "metadata": {},
   "outputs": [],
   "source": [
    "fig, ax = plt.subplots(2, 5, figsize=(8, 3))\n",
    "centers = kmeans.centers.reshape(10, 8, 8)\n",
    "for axi, center in zip(ax.flat, centers):\n",
    "    axi.set(xticks=[], yticks=[])\n",
    "    axi.imshow(center, interpolation='nearest', cmap=plt.cm.binary)"
   ]
  },
  {
   "cell_type": "markdown",
   "metadata": {},
   "source": [
    "### Evaluate The Model"
   ]
  },
  {
   "cell_type": "code",
   "execution_count": null,
   "metadata": {},
   "outputs": [],
   "source": [
    "from scipy.stats import mode\n",
    "from sklearn.metrics import accuracy_score\n",
    "\n",
    "labels = np.zeros_like(clusters)\n",
    "for i in range(10):\n",
    "    mask = (clusters == i)\n",
    "    labels[mask] = mode(digits.target[mask])[0]\n",
    "accuracy_score(digits.target, labels)"
   ]
  }
 ],
 "metadata": {
  "kernelspec": {
   "display_name": "kernel",
   "language": "python",
   "name": "py36"
  },
  "language_info": {
   "codemirror_mode": {
    "name": "ipython",
    "version": 3
   },
   "file_extension": ".py",
   "mimetype": "text/x-python",
   "name": "python",
   "nbconvert_exporter": "python",
   "pygments_lexer": "ipython3",
   "version": "3.6.4"
  }
 },
 "nbformat": 4,
 "nbformat_minor": 2
}
